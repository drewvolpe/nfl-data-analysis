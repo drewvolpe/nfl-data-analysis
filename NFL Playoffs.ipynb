{
 "metadata": {
  "name": "NFL Playoffs"
 },
 "nbformat": 3,
 "nbformat_minor": 0,
 "worksheets": [
  {
   "cells": [
    {
     "cell_type": "code",
     "collapsed": false,
     "input": [
      "import csv\n",
      "from datetime import datetime\n",
      "import numpy as np\n",
      "from prepare_data import get_data_rows, get_team_names, compute_home_win_pct_all\n",
      "from sim_teams import sim_runs\n"
     ],
     "language": "python",
     "metadata": {},
     "outputs": [],
     "prompt_number": 20
    },
    {
     "cell_type": "code",
     "collapsed": false,
     "input": [
      "data_rows = get_data_rows(csv_filename='data/post2002-2012lines.csv')\n",
      "for rnd in ['WC', 'DP', 'CC', 'SB']:\n",
      "    lines = [r['Line'] for r in data_rows if r['Round'] == rnd]\n",
      "    print '%s Avg: %0.2f Median: %0.2f Std: %0.2f (n=%s)' % \\\n",
      "        (rnd, np.average(lines), np.median(lines), np.std(lines), len(lines))\n"
     ],
     "language": "python",
     "metadata": {},
     "outputs": [
      {
       "output_type": "stream",
       "stream": "stdout",
       "text": [
        "WC Avg: 2.98 Median: 3.00 Std: 4.75 (n=44)\n",
        "DP Avg: 6.25 Median: 6.50 Std: 3.32 (n=44)\n",
        "CC Avg: 3.95 Median: 4.00 Std: 4.42 (n=22)\n",
        "SB Avg: 3.18 Median: 4.00 Std: 5.34 (n=11)\n"
       ]
      }
     ],
     "prompt_number": 17
    },
    {
     "cell_type": "code",
     "collapsed": false,
     "input": [
      "data_rows = get_data_rows(csv_filename='data/post2002-2012lines.csv')\n",
      "for rnd in ['WC', 'DP', 'CC', 'SB']:\n",
      "    lines = [r['Line'] for r in data_rows if r['Round'] == rnd]\n",
      "    lines_3 = len([l for l in lines if l < 3])*1.0 / len(lines)\n",
      "    lines_7 = len([l for l in lines if l >= 7])*1.0 / len(lines)\n",
      "    lines_9 = len([l for l in lines if l >= 9])*1.0 / len(lines)\n",
      "    print '%s <3: %0.2f >=7: %0.2f >=9: %0.2f' % (rnd, lines_3, lines_7, lines_9)"
     ],
     "language": "python",
     "metadata": {},
     "outputs": [
      {
       "output_type": "stream",
       "stream": "stdout",
       "text": [
        "WC <3: 0.39 >=7: 0.20 >=9: 0.11\n",
        "DP <3: 0.09 >=7: 0.48 >=9: 0.23\n",
        "CC <3: 0.23 >=7: 0.27 >=9: 0.09\n",
        "SB <3: 0.18 >=7: 0.18 >=9: 0.09\n"
       ]
      }
     ],
     "prompt_number": 18
    },
    {
     "cell_type": "code",
     "collapsed": false,
     "input": [
      "cleaned_filename = 'playoffs_nfl_cleaned.csv'\n",
      "with open(cleaned_filename, 'wb') as f:\n",
      "    csv_writer = csv.DictWriter(f, data_rows[0].keys())\n",
      "    csv_writer.writeheader()\n",
      "    for row in data_rows:\n",
      "        csv_writer.writerow(row)\n",
      "print 'Wrote %s' % cleaned_filename"
     ],
     "language": "python",
     "metadata": {},
     "outputs": [
      {
       "output_type": "stream",
       "stream": "stdout",
       "text": [
        "Wrote playoffs_nfl_cleaned.csv\n"
       ]
      }
     ],
     "prompt_number": 21
    }
   ],
   "metadata": {}
  }
 ]
}